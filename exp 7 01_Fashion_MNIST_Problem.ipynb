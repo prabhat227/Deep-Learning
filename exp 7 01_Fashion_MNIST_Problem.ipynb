{
  "cells": [
    {
      "cell_type": "markdown",
      "metadata": {
        "id": "qbkwn59LbEJR"
      },
      "source": [
        "<img src=\"The-Northcap-University-NCU-logo.png\">"
      ]
    },
    {
      "cell_type": "markdown",
      "metadata": {
        "id": "RG7tF9DqbEJS"
      },
      "source": [
        "# Deep Learning for Image Classification Drill\n",
        "\n",
        "\n",
        "Welcome to your drill! Follow the instructions in bold below to complete the drill.\n",
        "\n",
        "------------\n",
        "\n",
        "## The Challenge\n",
        "\n",
        "**Your task is to build an image classifier with Keras and Convolutional Neural Networks for the Fashion MNIST dataset. This data set includes 10 labels of different clothing types with 28 by 28 *grayscale* images. There is a training set of 60,000 images and 10,000 test images.**\n",
        "\n",
        "    Label\tDescription\n",
        "    0\t    T-shirt/top\n",
        "    1\t    Trouser\n",
        "    2\t    Pullover\n",
        "    3\t    Dress\n",
        "    4\t    Coat\n",
        "    5\t    Sandal\n",
        "    6\t    Shirt\n",
        "    7\t    Sneaker\n",
        "    8\t    Bag\n",
        "    9\t    Ankle boot\n",
        "    \n"
      ]
    },
    {
      "cell_type": "markdown",
      "metadata": {
        "id": "JhcDkbTqbEJT"
      },
      "source": [
        "## The Data\n",
        "\n",
        "**TASK 1: Run the code below to download the dataset using Keras.**"
      ]
    },
    {
      "cell_type": "code",
      "execution_count": null,
      "metadata": {
        "colab": {
          "base_uri": "https://localhost:8080/"
        },
        "id": "wZG5XUt1bEJT",
        "outputId": "8cc33f78-578b-447d-ee5a-a587fe8d4d5b"
      },
      "outputs": [
        {
          "output_type": "stream",
          "name": "stdout",
          "text": [
            "Downloading data from https://storage.googleapis.com/tensorflow/tf-keras-datasets/train-labels-idx1-ubyte.gz\n",
            "29515/29515 [==============================] - 0s 0us/step\n",
            "Downloading data from https://storage.googleapis.com/tensorflow/tf-keras-datasets/train-images-idx3-ubyte.gz\n",
            "26421880/26421880 [==============================] - 0s 0us/step\n",
            "Downloading data from https://storage.googleapis.com/tensorflow/tf-keras-datasets/t10k-labels-idx1-ubyte.gz\n",
            "5148/5148 [==============================] - 0s 0us/step\n",
            "Downloading data from https://storage.googleapis.com/tensorflow/tf-keras-datasets/t10k-images-idx3-ubyte.gz\n",
            "4422102/4422102 [==============================] - 0s 0us/step\n"
          ]
        }
      ],
      "source": [
        "from tensorflow.keras.datasets import fashion_mnist\n",
        "\n",
        "(x_train, y_train), (x_test, y_test) = fashion_mnist.load_data()"
      ]
    },
    {
      "cell_type": "markdown",
      "metadata": {
        "id": "_iOcEsGRbEJV"
      },
      "source": [
        "## Visualizing the Data\n",
        "\n",
        "**TASK 2: Use matplotlib to view an image from the data set. It can be any image from the data set.**"
      ]
    },
    {
      "cell_type": "code",
      "execution_count": null,
      "metadata": {
        "id": "DbC9jpD8bEJV"
      },
      "outputs": [],
      "source": [
        "import tensorflow as tf\n",
        "import matplotlib.pyplot as plt"
      ]
    },
    {
      "cell_type": "code",
      "execution_count": null,
      "metadata": {
        "id": "BanMNlHObEJW"
      },
      "outputs": [],
      "source": [
        "# Load the Fashion MNIST dataset from TensorFlow\n",
        "fashion_mnist = tf.keras.datasets.fashion_mnist\n",
        "(train_images, train_labels), (test_images, test_labels) = fashion_mnist.load_data()\n",
        "\n",
        "# Choose an image index to display\n",
        "image_index = 4  # You can change this index to view different images\n"
      ]
    },
    {
      "cell_type": "code",
      "execution_count": null,
      "metadata": {
        "colab": {
          "base_uri": "https://localhost:8080/",
          "height": 428
        },
        "id": "9yltJh88bEJW",
        "outputId": "17b2a8ca-f7f5-45c6-cd9b-3ec6994a4e3a"
      },
      "outputs": [
        {
          "output_type": "display_data",
          "data": {
            "text/plain": [
              "<Figure size 640x480 with 1 Axes>"
            ],
            "image/png": "[encoded data removed]"
          },
          "metadata": {}
        }
      ],
      "source": [
        "# Display the selected image\n",
        "plt.imshow(train_images[image_index], cmap='gray')  # cmap='gray' for grayscale\n",
        "plt.title(f'Fashion MNIST Image: Label {train_labels[image_index]}')\n",
        "plt.axis('off')\n",
        "plt.show()"
      ]
    },
    {
      "cell_type": "code",
      "execution_count": null,
      "metadata": {
        "id": "2EI1cx7obEJW"
      },
      "outputs": [],
      "source": []
    },
    {
      "cell_type": "markdown",
      "metadata": {
        "id": "fwGHXvqEbEJW"
      },
      "source": [
        "## Preprocessing the Data\n",
        "\n",
        "**TASK 3: Normalize the X train and X test data by dividing by the max value of the image arrays.**"
      ]
    },
    {
      "cell_type": "code",
      "execution_count": null,
      "metadata": {
        "id": "wjSikJtBbEJW"
      },
      "outputs": [],
      "source": [
        "import tensorflow as tf"
      ]
    },
    {
      "cell_type": "code",
      "execution_count": null,
      "metadata": {
        "colab": {
          "base_uri": "https://localhost:8080/"
        },
        "id": "MCSVSB8GbEJW",
        "outputId": "d19a21df-5300-4a9b-88d2-4a07f063e42f"
      },
      "outputs": [
        {
          "output_type": "stream",
          "name": "stdout",
          "text": [
            "Downloading data from https://www.cs.toronto.edu/~kriz/cifar-10-python.tar.gz\n",
            "170498071/170498071 [==============================] - 2s 0us/step\n"
          ]
        }
      ],
      "source": [
        "# Load the CIFAR-10 dataset from TensorFlow\n",
        "cifar10 = tf.keras.datasets.cifar10\n",
        "(train_images, train_labels), (test_images, test_labels) = cifar10.load_data()\n",
        "\n",
        "# Normalize the pixel values by dividing by the maximum value\n",
        "train_images_normalized = train_images / 255.0\n",
        "test_images_normalized = test_images / 255.0"
      ]
    },
    {
      "cell_type": "code",
      "execution_count": null,
      "metadata": {
        "colab": {
          "base_uri": "https://localhost:8080/"
        },
        "id": "ODo7lMtIbEJX",
        "outputId": "6f3ca7bd-0dd9-49a3-da5b-658e1ea48047"
      },
      "outputs": [
        {
          "output_type": "stream",
          "name": "stdout",
          "text": [
            "Shape of normalized training images: (50000, 32, 32, 3)\n",
            "Shape of normalized testing images: (10000, 32, 32, 3)\n"
          ]
        }
      ],
      "source": [
        "# Displaying the shape of the normalized datasets to confirm the change\n",
        "print(\"Shape of normalized training images:\", train_images_normalized.shape)\n",
        "print(\"Shape of normalized testing images:\", test_images_normalized.shape)"
      ]
    },
    {
      "cell_type": "markdown",
      "metadata": {
        "id": "nkwyVp9SbEJX"
      },
      "source": [
        "**Task 4: Reshape the X arrays to include a 4 dimension of the single channel. Similar to what we did for the numbers MNIST data set.**"
      ]
    },
    {
      "cell_type": "code",
      "execution_count": null,
      "metadata": {
        "id": "TzG9l87GbEJX"
      },
      "outputs": [],
      "source": [
        "import tensorflow as tf"
      ]
    },
    {
      "cell_type": "code",
      "execution_count": null,
      "metadata": {
        "id": "zixCkiRObEJX"
      },
      "outputs": [],
      "source": [
        "# Load the CIFAR-10 dataset from TensorFlow\n",
        "cifar10 = tf.keras.datasets.cifar10\n",
        "(train_images, train_labels), (test_images, test_labels) = cifar10.load_data()\n",
        "\n",
        "# Normalize the pixel values by dividing by the maximum value\n",
        "train_images_normalized = train_images / 255.0\n",
        "test_images_normalized = test_images / 255.0\n",
        "\n",
        "# Reshape the arrays to include a 4th dimension representing a single channel\n",
        "train_images_reshaped = train_images_normalized.reshape(train_images_normalized.shape[0], train_images_normalized.shape[1], train_images_normalized.shape[2], 3)\n",
        "test_images_reshaped = test_images_normalized.reshape(test_images_normalized.shape[0], test_images_normalized.shape[1], test_images_normalized.shape[2], 3)"
      ]
    },
    {
      "cell_type": "code",
      "execution_count": null,
      "metadata": {
        "colab": {
          "base_uri": "https://localhost:8080/"
        },
        "id": "MiS-VbCSbEJX",
        "outputId": "2e149cb8-e4eb-4edb-c276-e8d40daedf0f"
      },
      "outputs": [
        {
          "output_type": "stream",
          "name": "stdout",
          "text": [
            "Shape of reshaped training images: (50000, 32, 32, 3)\n",
            "Shape of reshaped testing images: (10000, 32, 32, 3)\n"
          ]
        }
      ],
      "source": [
        "# Displaying the shape of the reshaped datasets to confirm the change\n",
        "print(\"Shape of reshaped training images:\", train_images_reshaped.shape)\n",
        "print(\"Shape of reshaped testing images:\", test_images_reshaped.shape)"
      ]
    },
    {
      "cell_type": "markdown",
      "metadata": {
        "id": "OHnGDe7hbEJX"
      },
      "source": [
        "**TASK 5: Convert the y_train and y_test values to be one-hot encoded for categorical analysis by Keras.**"
      ]
    },
    {
      "cell_type": "code",
      "execution_count": null,
      "metadata": {
        "id": "ZvzUPwvWbEJY"
      },
      "outputs": [],
      "source": [
        "import tensorflow as tf\n",
        "from tensorflow.keras.utils import to_categorical"
      ]
    },
    {
      "cell_type": "code",
      "execution_count": null,
      "metadata": {
        "id": "ILfSj4B9bEJY"
      },
      "outputs": [],
      "source": [
        "# Load the CIFAR-10 dataset from TensorFlow\n",
        "cifar10 = tf.keras.datasets.cifar10\n",
        "(train_images, train_labels), (test_images, test_labels) = cifar10.load_data()"
      ]
    },
    {
      "cell_type": "code",
      "execution_count": null,
      "metadata": {
        "id": "NIZz-lDhbEJY"
      },
      "outputs": [],
      "source": [
        "# Normalize the pixel values by dividing by the maximum value\n",
        "train_images_normalized = train_images / 255.0\n",
        "test_images_normalized = test_images / 255.0\n",
        "\n",
        "# Reshape the arrays to include a 4th dimension representing a single channel\n",
        "train_images_reshaped = train_images_normalized.reshape(train_images_normalized.shape[0], train_images_normalized.shape[1], train_images_normalized.shape[2], 3)\n",
        "test_images_reshaped = test_images_normalized.reshape(test_images_normalized.shape[0], test_images_normalized.shape[1], test_images_normalized.shape[2], 3)\n",
        "\n",
        "# Convert the integer labels to one-hot encoded vectors\n",
        "num_classes = 10  # CIFAR-10 has 10 classes\n",
        "train_labels_one_hot = to_categorical(train_labels, num_classes)\n",
        "test_labels_one_hot = to_categorical(test_labels, num_classes)"
      ]
    },
    {
      "cell_type": "code",
      "execution_count": null,
      "metadata": {
        "colab": {
          "base_uri": "https://localhost:8080/"
        },
        "id": "y86srexZbEJY",
        "outputId": "7567a651-af98-4ae8-b9e6-ad7ac7600023"
      },
      "outputs": [
        {
          "output_type": "stream",
          "name": "stdout",
          "text": [
            "Shape of one-hot encoded training labels: (50000, 10)\n",
            "Shape of one-hot encoded testing labels: (10000, 10)\n"
          ]
        }
      ],
      "source": [
        "# Displaying the shape of the one-hot encoded label arrays to confirm the change\n",
        "print(\"Shape of one-hot encoded training labels:\", train_labels_one_hot.shape)\n",
        "print(\"Shape of one-hot encoded testing labels:\", test_labels_one_hot.shape)"
      ]
    },
    {
      "cell_type": "markdown",
      "metadata": {
        "id": "dyXCgCQ9bEJY"
      },
      "source": [
        "## Building the Model\n",
        "\n",
        "**TASK 5: Use Keras to create a model consisting of at least the following layers (but feel free to experiment):**\n",
        "\n",
        "* 2D Convolutional Layer, filters=32 and kernel_size=(4,4)\n",
        "* Pooling Layer where pool_size = (2,2)\n",
        "\n",
        "* Flatten Layer\n",
        "* Dense Layer (128 Neurons, but feel free to play around with this value), RELU activation\n",
        "\n",
        "* Final Dense Layer of 10 Neurons with a softmax activation\n",
        "\n",
        "**Then compile the model with these parameters: loss='categorical_crossentropy', optimizer='rmsprop', metrics=['accuracy']**"
      ]
    },
    {
      "cell_type": "code",
      "execution_count": null,
      "metadata": {
        "id": "v_gKIfI5bEJY"
      },
      "outputs": [],
      "source": [
        "import tensorflow as tf\n",
        "from tensorflow.keras.models import Sequential\n",
        "from tensorflow.keras.layers import Conv2D, MaxPooling2D, Flatten, Dense"
      ]
    },
    {
      "cell_type": "code",
      "execution_count": null,
      "metadata": {
        "id": "LCgvzV0EbEJY"
      },
      "outputs": [],
      "source": [
        "# Create the model\n",
        "model = Sequential()\n",
        "\n",
        "# Add a 2D Convolutional Layer\n",
        "model.add(Conv2D(32, kernel_size=(4, 4), activation='relu', input_shape=(32, 32, 3)))\n",
        "\n",
        "# Add a Pooling Layer\n",
        "model.add(MaxPooling2D(pool_size=(2, 2)))\n",
        "\n",
        "# Flatten the output from the convolutional layers\n",
        "model.add(Flatten())\n",
        "\n",
        "# Add a Dense Layer\n",
        "model.add(Dense(128, activation='relu'))\n",
        "\n",
        "# Add the final Dense Layer with softmax activation\n",
        "model.add(Dense(10, activation='softmax'))\n",
        "\n",
        "# Compile the model\n",
        "model.compile(loss='categorical_crossentropy', optimizer='rmsprop', metrics=['accuracy'])"
      ]
    },
    {
      "cell_type": "code",
      "execution_count": null,
      "metadata": {
        "colab": {
          "base_uri": "https://localhost:8080/"
        },
        "id": "qorlXG9abEJY",
        "outputId": "cc549a2e-28c2-435e-8c93-17d16be9aad6"
      },
      "outputs": [
        {
          "output_type": "stream",
          "name": "stdout",
          "text": [
            "Model: \"sequential\"\n",
            "_________________________________________________________________\n",
            " Layer (type)                Output Shape              Param #   \n",
            "=================================================================\n",
            " conv2d (Conv2D)             (None, 29, 29, 32)        1568      \n",
            "                                                                 \n",
            " max_pooling2d (MaxPooling2  (None, 14, 14, 32)        0         \n",
            " D)                                                              \n",
            "                                                                 \n",
            " flatten (Flatten)           (None, 6272)              0         \n",
            "                                                                 \n",
            " dense (Dense)               (None, 128)               802944    \n",
            "                                                                 \n",
            " dense_1 (Dense)             (None, 10)                1290      \n",
            "                                                                 \n",
            "=================================================================\n",
            "Total params: 805802 (3.07 MB)\n",
            "Trainable params: 805802 (3.07 MB)\n",
            "Non-trainable params: 0 (0.00 Byte)\n",
            "_________________________________________________________________\n"
          ]
        }
      ],
      "source": [
        "# Display the model summary\n",
        "model.summary()"
      ]
    },
    {
      "cell_type": "markdown",
      "metadata": {
        "id": "8HwRpmsFbEJY"
      },
      "source": [
        "### Training the Model\n",
        "**TASK 6: Train/Fit the model to the x_train set. Amount of epochs is up to you.**"
      ]
    },
    {
      "cell_type": "code",
      "execution_count": null,
      "metadata": {
        "colab": {
          "base_uri": "https://localhost:8080/",
          "height": 1000
        },
        "id": "zIdF6yIhbEJZ",
        "outputId": "abdc33b0-b1e7-4931-e530-9448a2acc95d"
      },
      "outputs": [
        {
          "output_type": "stream",
          "name": "stdout",
          "text": [
            "Epoch 1/10\n",
            "1250/1250 [==============================] - 43s 33ms/step - loss: 1.5287 - accuracy: 0.4556 - val_loss: 1.3404 - val_accuracy: 0.5371\n",
            "Epoch 2/10\n",
            "1250/1250 [==============================] - 37s 29ms/step - loss: 1.2177 - accuracy: 0.5727 - val_loss: 1.1731 - val_accuracy: 0.5921\n",
            "Epoch 3/10\n",
            "1250/1250 [==============================] - 37s 30ms/step - loss: 1.0645 - accuracy: 0.6291 - val_loss: 1.1679 - val_accuracy: 0.5996\n",
            "Epoch 4/10\n",
            "1250/1250 [==============================] - 39s 31ms/step - loss: 0.9523 - accuracy: 0.6701 - val_loss: 1.0694 - val_accuracy: 0.6323\n",
            "Epoch 5/10\n",
            "1250/1250 [==============================] - 37s 30ms/step - loss: 0.8574 - accuracy: 0.7019 - val_loss: 1.1712 - val_accuracy: 0.6153\n",
            "Epoch 6/10\n",
            "1250/1250 [==============================] - 36s 28ms/step - loss: 0.7665 - accuracy: 0.7352 - val_loss: 1.1091 - val_accuracy: 0.6411\n",
            "Epoch 7/10\n",
            "1250/1250 [==============================] - 37s 29ms/step - loss: 0.6853 - accuracy: 0.7655 - val_loss: 1.1638 - val_accuracy: 0.6410\n",
            "Epoch 8/10\n",
            "1250/1250 [==============================] - 37s 29ms/step - loss: 0.6089 - accuracy: 0.7907 - val_loss: 1.1427 - val_accuracy: 0.6520\n",
            "Epoch 9/10\n",
            "1250/1250 [==============================] - 37s 30ms/step - loss: 0.5354 - accuracy: 0.8156 - val_loss: 1.3069 - val_accuracy: 0.6280\n",
            "Epoch 10/10\n",
            "1250/1250 [==============================] - 37s 30ms/step - loss: 0.4604 - accuracy: 0.8434 - val_loss: 1.3625 - val_accuracy: 0.6415\n"
          ]
        },
        {
          "output_type": "display_data",
          "data": {
            "text/plain": [
              "<Figure size 640x480 with 1 Axes>"
            ],
            "image/png": "[encoded data removed]"
          },
          "metadata": {}
        },
        {
          "output_type": "display_data",
          "data": {
            "text/plain": [
              "<Figure size 640x480 with 1 Axes>"
            ],
            "image/png": "[encoded data removed]"
          },
          "metadata": {}
        }
      ],
      "source": [
        "\n",
        "# Train the model\n",
        "history = model.fit(train_images_reshaped, train_labels_one_hot, epochs=10, batch_size=32, validation_split=0.2)\n",
        "\n",
        "# Plot training & validation accuracy values\n",
        "import matplotlib.pyplot as plt\n",
        "\n",
        "plt.plot(history.history['accuracy'])\n",
        "plt.plot(history.history['val_accuracy'])\n",
        "plt.title('Model accuracy')\n",
        "plt.xlabel('Epoch')\n",
        "plt.ylabel('Accuracy')\n",
        "plt.legend(['Train', 'Validation'], loc='upper left')\n",
        "plt.show()\n",
        "\n",
        "# Plot training & validation loss values\n",
        "plt.plot(history.history['loss'])\n",
        "plt.plot(history.history['val_loss'])\n",
        "plt.title('Model loss')\n",
        "plt.xlabel('Epoch')\n",
        "plt.ylabel('Loss')\n",
        "plt.legend(['Train', 'Validation'], loc='upper left')\n",
        "plt.show()\n"
      ]
    },
    {
      "cell_type": "markdown",
      "metadata": {
        "id": "MwbAejIcbEJZ"
      },
      "source": [
        "### Evaluating the Model\n",
        "\n",
        "**TASK 7: Show the accuracy,precision,recall,f1-score the model achieved on the x_test data set. Keep in mind, there are quite a few ways to do this, but we recommend following the same procedure we showed in the MNIST lecture.**"
      ]
    },
    {
      "cell_type": "code",
      "execution_count": null,
      "metadata": {
        "id": "IE7jhClubEJZ"
      },
      "outputs": [],
      "source": [
        "import numpy as np\n",
        "from sklearn.metrics import classification_report\n"
      ]
    },
    {
      "cell_type": "code",
      "execution_count": null,
      "metadata": {
        "colab": {
          "base_uri": "https://localhost:8080/"
        },
        "id": "FW3n38P_bEJZ",
        "outputId": "fce76453-f230-4f54-f15f-9a66378b001f"
      },
      "outputs": [
        {
          "output_type": "stream",
          "name": "stdout",
          "text": [
            "313/313 [==============================] - 3s 8ms/step\n"
          ]
        }
      ],
      "source": [
        "# Use the trained model to make predictions on the test set\n",
        "predictions = model.predict(test_images_reshaped)\n"
      ]
    },
    {
      "cell_type": "code",
      "execution_count": null,
      "metadata": {
        "id": "lEtVaDWkbEJZ"
      },
      "outputs": [],
      "source": [
        "# Convert the predicted labels and true labels to categorical format\n",
        "predicted_labels = np.argmax(predictions, axis=1)\n",
        "true_labels = np.argmax(test_labels_one_hot, axis=1)\n"
      ]
    },
    {
      "cell_type": "code",
      "execution_count": null,
      "metadata": {
        "colab": {
          "base_uri": "https://localhost:8080/"
        },
        "id": "AallXPT9bEJZ",
        "outputId": "cc2335c5-2594-4e15-b925-e76cceb42f53"
      },
      "outputs": [
        {
          "output_type": "stream",
          "name": "stdout",
          "text": [
            "              precision    recall  f1-score   support\n",
            "\n",
            "           0       0.69      0.66      0.67      1000\n",
            "           1       0.72      0.80      0.76      1000\n",
            "           2       0.55      0.42      0.48      1000\n",
            "           3       0.46      0.41      0.43      1000\n",
            "           4       0.53      0.67      0.59      1000\n",
            "           5       0.56      0.49      0.52      1000\n",
            "           6       0.63      0.78      0.70      1000\n",
            "           7       0.78      0.64      0.71      1000\n",
            "           8       0.66      0.82      0.73      1000\n",
            "           9       0.78      0.65      0.71      1000\n",
            "\n",
            "    accuracy                           0.63     10000\n",
            "   macro avg       0.64      0.63      0.63     10000\n",
            "weighted avg       0.64      0.63      0.63     10000\n",
            "\n"
          ]
        }
      ],
      "source": [
        "# Calculate accuracy, precision, recall, and F1-score\n",
        "report = classification_report(true_labels, predicted_labels)\n",
        "print(report)"
      ]
    },
    {
      "cell_type": "markdown",
      "metadata": {
        "id": "DvcOBcJCbEJa"
      },
      "source": [
        "# Great Job!"
      ]
    }
  ],
  "metadata": {
    "kernelspec": {
      "display_name": "Python 3",
      "language": "python",
      "name": "python3"
    },
    "language_info": {
      "codemirror_mode": {
        "name": "ipython",
        "version": 3
      },
      "file_extension": ".py",
      "mimetype": "text/x-python",
      "name": "python",
      "nbconvert_exporter": "python",
      "pygments_lexer": "ipython3",
      "version": "3.6.5"
    },
    "colab": {
      "provenance": []
    }
  },
  "nbformat": 4,
  "nbformat_minor": 0
}
