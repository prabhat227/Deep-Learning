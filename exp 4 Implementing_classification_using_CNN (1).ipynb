{
  "nbformat": 4,
  "nbformat_minor": 0,
  "metadata": {
    "colab": {
      "provenance": []
    },
    "kernelspec": {
      "name": "python3",
      "display_name": "Python 3"
    },
    "language_info": {
      "name": "python"
    }
  },
  "cells": [
    {
      "cell_type": "code",
      "execution_count": 1,
      "metadata": {
        "id": "k4qUjY9ddiE1"
      },
      "outputs": [],
      "source": [
        "import tensorflow as tf\n",
        "from tensorflow.keras import layers, models, datasets\n"
      ]
    },
    {
      "cell_type": "code",
      "source": [
        "\n",
        "(train_images, train_labels), (test_images, test_labels) = datasets.mnist.load_data()\n",
        "\n",
        "train_images, test_images = train_images / 255.0, test_images / 255.0\n",
        "\n",
        "# Add a channel dimension (for CNN)\n",
        "train_images = train_images[..., tf.newaxis]\n",
        "test_images = test_images[..., tf.newaxis]\n"
      ],
      "metadata": {
        "colab": {
          "base_uri": "https://localhost:8080/"
        },
        "id": "cmmjmHmTdqhw",
        "outputId": "23ce4b84-015e-4d37-8b94-5ab7dca63eb5"
      },
      "execution_count": 2,
      "outputs": [
        {
          "output_type": "stream",
          "name": "stdout",
          "text": [
            "Downloading data from https://storage.googleapis.com/tensorflow/tf-keras-datasets/mnist.npz\n",
            "11490434/11490434 [==============================] - 0s 0us/step\n"
          ]
        }
      ]
    },
    {
      "cell_type": "code",
      "source": [
        "model = models.Sequential([\n",
        "    layers.Conv2D(32, (3, 3), activation='relu', input_shape=(28, 28, 1)),\n",
        "    layers.MaxPooling2D((2, 2)),\n",
        "    layers.Conv2D(64, (3, 3), activation='relu'),\n",
        "    layers.MaxPooling2D((2, 2)),\n",
        "    layers.Conv2D(64, (3, 3), activation='relu'),\n",
        "    layers.Flatten(),\n",
        "    layers.Dense(64, activation='relu'),\n",
        "    layers.Dense(10, activation='softmax')\n",
        "])\n",
        "\n",
        "model.compile(optimizer='adam',\n",
        "              loss='sparse_categorical_crossentropy',\n",
        "              metrics=['accuracy'])\n",
        "\n",
        "model.summary()\n"
      ],
      "metadata": {
        "colab": {
          "base_uri": "https://localhost:8080/"
        },
        "id": "QTbetteQdwtA",
        "outputId": "d4da4d71-ddef-4a4d-f7c3-524e57288a6c"
      },
      "execution_count": 3,
      "outputs": [
        {
          "output_type": "stream",
          "name": "stdout",
          "text": [
            "Model: \"sequential\"\n",
            "_________________________________________________________________\n",
            " Layer (type)                Output Shape              Param #   \n",
            "=================================================================\n",
            " conv2d (Conv2D)             (None, 26, 26, 32)        320       \n",
            "                                                                 \n",
            " max_pooling2d (MaxPooling2  (None, 13, 13, 32)        0         \n",
            " D)                                                              \n",
            "                                                                 \n",
            " conv2d_1 (Conv2D)           (None, 11, 11, 64)        18496     \n",
            "                                                                 \n",
            " max_pooling2d_1 (MaxPoolin  (None, 5, 5, 64)          0         \n",
            " g2D)                                                            \n",
            "                                                                 \n",
            " conv2d_2 (Conv2D)           (None, 3, 3, 64)          36928     \n",
            "                                                                 \n",
            " flatten (Flatten)           (None, 576)               0         \n",
            "                                                                 \n",
            " dense (Dense)               (None, 64)                36928     \n",
            "                                                                 \n",
            " dense_1 (Dense)             (None, 10)                650       \n",
            "                                                                 \n",
            "=================================================================\n",
            "Total params: 93322 (364.54 KB)\n",
            "Trainable params: 93322 (364.54 KB)\n",
            "Non-trainable params: 0 (0.00 Byte)\n",
            "_________________________________________________________________\n"
          ]
        }
      ]
    },
    {
      "cell_type": "code",
      "source": [
        "model.fit(train_images, train_labels, epochs=16, batch_size=64, validation_split=0.2)\n"
      ],
      "metadata": {
        "colab": {
          "base_uri": "https://localhost:8080/"
        },
        "id": "ub0qnggadzMQ",
        "outputId": "d3723248-446d-4d08-b6cb-30412587abe5"
      },
      "execution_count": 10,
      "outputs": [
        {
          "output_type": "stream",
          "name": "stdout",
          "text": [
            "Epoch 1/16\n",
            "750/750 [==============================] - 42s 57ms/step - loss: 0.0031 - accuracy: 0.9992 - val_loss: 0.0593 - val_accuracy: 0.9905\n",
            "Epoch 2/16\n",
            "750/750 [==============================] - 43s 58ms/step - loss: 0.0049 - accuracy: 0.9985 - val_loss: 0.0683 - val_accuracy: 0.9901\n",
            "Epoch 3/16\n",
            "750/750 [==============================] - 45s 60ms/step - loss: 0.0040 - accuracy: 0.9988 - val_loss: 0.0491 - val_accuracy: 0.9908\n",
            "Epoch 4/16\n",
            "750/750 [==============================] - 46s 61ms/step - loss: 0.0037 - accuracy: 0.9990 - val_loss: 0.0615 - val_accuracy: 0.9888\n",
            "Epoch 5/16\n",
            "750/750 [==============================] - 46s 61ms/step - loss: 0.0036 - accuracy: 0.9989 - val_loss: 0.0474 - val_accuracy: 0.9920\n",
            "Epoch 6/16\n",
            "750/750 [==============================] - 43s 57ms/step - loss: 0.0017 - accuracy: 0.9995 - val_loss: 0.0581 - val_accuracy: 0.9909\n",
            "Epoch 7/16\n",
            "750/750 [==============================] - 46s 61ms/step - loss: 0.0020 - accuracy: 0.9993 - val_loss: 0.0755 - val_accuracy: 0.9887\n",
            "Epoch 8/16\n",
            "750/750 [==============================] - 41s 55ms/step - loss: 0.0070 - accuracy: 0.9980 - val_loss: 0.0508 - val_accuracy: 0.9909\n",
            "Epoch 9/16\n",
            "750/750 [==============================] - 43s 57ms/step - loss: 7.6334e-04 - accuracy: 0.9997 - val_loss: 0.0539 - val_accuracy: 0.9919\n",
            "Epoch 10/16\n",
            "750/750 [==============================] - 43s 57ms/step - loss: 5.9894e-05 - accuracy: 1.0000 - val_loss: 0.0580 - val_accuracy: 0.9918\n",
            "Epoch 11/16\n",
            "750/750 [==============================] - 42s 56ms/step - loss: 0.0059 - accuracy: 0.9983 - val_loss: 0.0716 - val_accuracy: 0.9894\n",
            "Epoch 12/16\n",
            "750/750 [==============================] - 41s 55ms/step - loss: 0.0040 - accuracy: 0.9988 - val_loss: 0.0618 - val_accuracy: 0.9915\n",
            "Epoch 13/16\n",
            "750/750 [==============================] - 43s 57ms/step - loss: 4.4671e-04 - accuracy: 0.9999 - val_loss: 0.0603 - val_accuracy: 0.9923\n",
            "Epoch 14/16\n",
            "750/750 [==============================] - 44s 58ms/step - loss: 0.0034 - accuracy: 0.9989 - val_loss: 0.0826 - val_accuracy: 0.9875\n",
            "Epoch 15/16\n",
            "750/750 [==============================] - 44s 59ms/step - loss: 0.0044 - accuracy: 0.9986 - val_loss: 0.0566 - val_accuracy: 0.9907\n",
            "Epoch 16/16\n",
            "750/750 [==============================] - 45s 61ms/step - loss: 9.5090e-04 - accuracy: 0.9997 - val_loss: 0.0594 - val_accuracy: 0.9919\n"
          ]
        },
        {
          "output_type": "execute_result",
          "data": {
            "text/plain": [
              "<keras.src.callbacks.History at 0x7e597114f010>"
            ]
          },
          "metadata": {},
          "execution_count": 10
        }
      ]
    },
    {
      "cell_type": "code",
      "source": [
        "test_loss, test_acc = model.evaluate(test_images, test_labels)\n",
        "print('Test accuracy:', test_acc)\n"
      ],
      "metadata": {
        "colab": {
          "base_uri": "https://localhost:8080/"
        },
        "id": "ghUeiwvOe4gc",
        "outputId": "2020481b-7a09-4e77-da0a-aef6769cf0ad"
      },
      "execution_count": 11,
      "outputs": [
        {
          "output_type": "stream",
          "name": "stdout",
          "text": [
            "313/313 [==============================] - 3s 9ms/step - loss: 0.0463 - accuracy: 0.9924\n",
            "Test accuracy: 0.9923999905586243\n"
          ]
        }
      ]
    },
    {
      "cell_type": "code",
      "source": [
        "import matplotlib.pyplot as plt\n",
        "\n",
        "# Train the model and store the training history\n",
        "history = model.fit(train_images, train_labels, epochs=16, batch_size=64, validation_split=0.2)\n",
        "\n",
        "# Plot training and validation loss over epochs\n",
        "plt.plot(history.history['loss'], label='Training Loss')\n",
        "plt.plot(history.history['val_loss'], label='Validation Loss')\n",
        "plt.title('Training and Validation Loss')\n",
        "plt.xlabel('Epoch')\n",
        "plt.ylabel('Loss')\n",
        "plt.legend()\n",
        "plt.show()\n"
      ],
      "metadata": {
        "colab": {
          "base_uri": "https://localhost:8080/",
          "height": 1000
        },
        "id": "BTXE5eBZicA0",
        "outputId": "633503c3-5327-4dd7-c03a-df66beed6660"
      },
      "execution_count": 13,
      "outputs": [
        {
          "output_type": "stream",
          "name": "stdout",
          "text": [
            "Epoch 1/16\n",
            "750/750 [==============================] - 45s 60ms/step - loss: 0.0042 - accuracy: 0.9987 - val_loss: 0.0815 - val_accuracy: 0.9886\n",
            "Epoch 2/16\n",
            "750/750 [==============================] - 42s 55ms/step - loss: 0.0038 - accuracy: 0.9990 - val_loss: 0.0695 - val_accuracy: 0.9912\n",
            "Epoch 3/16\n",
            "750/750 [==============================] - 41s 55ms/step - loss: 0.0023 - accuracy: 0.9992 - val_loss: 0.0706 - val_accuracy: 0.9908\n",
            "Epoch 4/16\n",
            "750/750 [==============================] - 42s 56ms/step - loss: 0.0028 - accuracy: 0.9993 - val_loss: 0.0830 - val_accuracy: 0.9900\n",
            "Epoch 5/16\n",
            "750/750 [==============================] - 42s 55ms/step - loss: 0.0028 - accuracy: 0.9992 - val_loss: 0.0587 - val_accuracy: 0.9922\n",
            "Epoch 6/16\n",
            "750/750 [==============================] - 46s 61ms/step - loss: 0.0025 - accuracy: 0.9994 - val_loss: 0.0628 - val_accuracy: 0.9910\n",
            "Epoch 7/16\n",
            "750/750 [==============================] - 45s 60ms/step - loss: 0.0022 - accuracy: 0.9994 - val_loss: 0.0714 - val_accuracy: 0.9903\n",
            "Epoch 8/16\n",
            "750/750 [==============================] - 41s 55ms/step - loss: 0.0021 - accuracy: 0.9995 - val_loss: 0.0648 - val_accuracy: 0.9906\n",
            "Epoch 9/16\n",
            "750/750 [==============================] - 43s 58ms/step - loss: 0.0031 - accuracy: 0.9990 - val_loss: 0.0755 - val_accuracy: 0.9902\n",
            "Epoch 10/16\n",
            "750/750 [==============================] - 41s 55ms/step - loss: 0.0023 - accuracy: 0.9992 - val_loss: 0.0785 - val_accuracy: 0.9895\n",
            "Epoch 11/16\n",
            "750/750 [==============================] - 42s 56ms/step - loss: 0.0028 - accuracy: 0.9991 - val_loss: 0.0883 - val_accuracy: 0.9895\n",
            "Epoch 12/16\n",
            "750/750 [==============================] - 41s 55ms/step - loss: 0.0026 - accuracy: 0.9992 - val_loss: 0.0645 - val_accuracy: 0.9912\n",
            "Epoch 13/16\n",
            "750/750 [==============================] - 41s 54ms/step - loss: 0.0022 - accuracy: 0.9995 - val_loss: 0.0661 - val_accuracy: 0.9911\n",
            "Epoch 14/16\n",
            "750/750 [==============================] - 41s 54ms/step - loss: 0.0022 - accuracy: 0.9993 - val_loss: 0.0682 - val_accuracy: 0.9907\n",
            "Epoch 15/16\n",
            "750/750 [==============================] - 43s 57ms/step - loss: 0.0018 - accuracy: 0.9994 - val_loss: 0.0823 - val_accuracy: 0.9911\n",
            "Epoch 16/16\n",
            "750/750 [==============================] - 41s 54ms/step - loss: 0.0040 - accuracy: 0.9989 - val_loss: 0.0707 - val_accuracy: 0.9924\n"
          ]
        },
        {
          "output_type": "display_data",
          "data": {
            "text/plain": [
              "<Figure size 640x480 with 1 Axes>"
            ],
            "image/png": "[encoded data removed]"
          },
          "metadata": {}
        }
      ]
    }
  ]
}
